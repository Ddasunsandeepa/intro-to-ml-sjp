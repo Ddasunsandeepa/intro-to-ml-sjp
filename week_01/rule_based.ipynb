{
 "cells": [
  {
   "cell_type": "code",
   "execution_count": 1,
   "id": "666d6909",
   "metadata": {},
   "outputs": [],
   "source": [
    "import numpy as np\n",
    "import pandas as pd"
   ]
  },
  {
   "cell_type": "code",
   "execution_count": 2,
   "id": "1892c70b",
   "metadata": {},
   "outputs": [],
   "source": [
    "# Populate some mock data\n",
    "data = {\n",
    "    \"yom\": [1996, 2004, 2010, 2015, 2020],\n",
    "    \"yor\": [2000, 2007, 2012, 2015, 2022],\n",
    "    \"num_pre_owners\": [5, 2, 1, 1, 1],\n",
    "    \"mileage\": [185000, 145000, 190000, 65000, 35000],\n",
    "    \"fuel_economy\": [8, 15, 11, 10, 5],\n",
    "    \"number_accidents\": [5, 2, 1, 0, 0],\n",
    "    \"vehicle_color\": [\"white\", \"blue\", \"white\", \"black\", \"grey\"],\n",
    "    \"country_of_origin\": [\"japan\", \"thailand\", \"japan\", \"india\", \"germany\"],\n",
    "    \"make\": [\"toyota\", \"toyota\", \"nissan\", \"suzuki\", \"benz\"],\n",
    "    \"interior_condition\": [\"good\", \"good\", \"ok\", \"bad\", \"good\"]\n",
    "}\n"
   ]
  },
  {
   "cell_type": "code",
   "execution_count": 3,
   "id": "93b93ccc",
   "metadata": {},
   "outputs": [],
   "source": [
    "# Create dataframe\n",
    "df = pd.DataFrame(data)"
   ]
  },
  {
   "cell_type": "code",
   "execution_count": 4,
   "id": "07c2adf3",
   "metadata": {},
   "outputs": [
    {
     "data": {
      "text/html": [
       "<div>\n",
       "<style scoped>\n",
       "    .dataframe tbody tr th:only-of-type {\n",
       "        vertical-align: middle;\n",
       "    }\n",
       "\n",
       "    .dataframe tbody tr th {\n",
       "        vertical-align: top;\n",
       "    }\n",
       "\n",
       "    .dataframe thead th {\n",
       "        text-align: right;\n",
       "    }\n",
       "</style>\n",
       "<table border=\"1\" class=\"dataframe\">\n",
       "  <thead>\n",
       "    <tr style=\"text-align: right;\">\n",
       "      <th></th>\n",
       "      <th>yom</th>\n",
       "      <th>yor</th>\n",
       "      <th>num_pre_owners</th>\n",
       "      <th>mileage</th>\n",
       "      <th>fuel_economy</th>\n",
       "      <th>number_accidents</th>\n",
       "      <th>vehicle_color</th>\n",
       "      <th>country_of_origin</th>\n",
       "      <th>make</th>\n",
       "      <th>interior_condition</th>\n",
       "    </tr>\n",
       "  </thead>\n",
       "  <tbody>\n",
       "    <tr>\n",
       "      <th>0</th>\n",
       "      <td>1996</td>\n",
       "      <td>2000</td>\n",
       "      <td>5</td>\n",
       "      <td>185000</td>\n",
       "      <td>8</td>\n",
       "      <td>5</td>\n",
       "      <td>white</td>\n",
       "      <td>japan</td>\n",
       "      <td>toyota</td>\n",
       "      <td>good</td>\n",
       "    </tr>\n",
       "    <tr>\n",
       "      <th>1</th>\n",
       "      <td>2004</td>\n",
       "      <td>2007</td>\n",
       "      <td>2</td>\n",
       "      <td>145000</td>\n",
       "      <td>15</td>\n",
       "      <td>2</td>\n",
       "      <td>blue</td>\n",
       "      <td>thailand</td>\n",
       "      <td>toyota</td>\n",
       "      <td>good</td>\n",
       "    </tr>\n",
       "    <tr>\n",
       "      <th>2</th>\n",
       "      <td>2010</td>\n",
       "      <td>2012</td>\n",
       "      <td>1</td>\n",
       "      <td>190000</td>\n",
       "      <td>11</td>\n",
       "      <td>1</td>\n",
       "      <td>white</td>\n",
       "      <td>japan</td>\n",
       "      <td>nissan</td>\n",
       "      <td>ok</td>\n",
       "    </tr>\n",
       "    <tr>\n",
       "      <th>3</th>\n",
       "      <td>2015</td>\n",
       "      <td>2015</td>\n",
       "      <td>1</td>\n",
       "      <td>65000</td>\n",
       "      <td>10</td>\n",
       "      <td>0</td>\n",
       "      <td>black</td>\n",
       "      <td>india</td>\n",
       "      <td>suzuki</td>\n",
       "      <td>bad</td>\n",
       "    </tr>\n",
       "    <tr>\n",
       "      <th>4</th>\n",
       "      <td>2020</td>\n",
       "      <td>2022</td>\n",
       "      <td>1</td>\n",
       "      <td>35000</td>\n",
       "      <td>5</td>\n",
       "      <td>0</td>\n",
       "      <td>grey</td>\n",
       "      <td>germany</td>\n",
       "      <td>benz</td>\n",
       "      <td>good</td>\n",
       "    </tr>\n",
       "  </tbody>\n",
       "</table>\n",
       "</div>"
      ],
      "text/plain": [
       "    yom   yor  num_pre_owners  mileage  fuel_economy  number_accidents  \\\n",
       "0  1996  2000               5   185000             8                 5   \n",
       "1  2004  2007               2   145000            15                 2   \n",
       "2  2010  2012               1   190000            11                 1   \n",
       "3  2015  2015               1    65000            10                 0   \n",
       "4  2020  2022               1    35000             5                 0   \n",
       "\n",
       "  vehicle_color country_of_origin    make interior_condition  \n",
       "0         white             japan  toyota               good  \n",
       "1          blue          thailand  toyota               good  \n",
       "2         white             japan  nissan                 ok  \n",
       "3         black             india  suzuki                bad  \n",
       "4          grey           germany    benz               good  "
      ]
     },
     "execution_count": 4,
     "metadata": {},
     "output_type": "execute_result"
    }
   ],
   "source": [
    "# View first few rows\n",
    "df.head()"
   ]
  },
  {
   "cell_type": "code",
   "execution_count": 5,
   "id": "efde5a87",
   "metadata": {},
   "outputs": [
    {
     "data": {
      "text/plain": [
       "yom                     1996\n",
       "yor                     2000\n",
       "num_pre_owners             5\n",
       "mileage               185000\n",
       "fuel_economy               8\n",
       "number_accidents           5\n",
       "vehicle_color          white\n",
       "country_of_origin      japan\n",
       "make                  toyota\n",
       "interior_condition      good\n",
       "Name: 0, dtype: object"
      ]
     },
     "execution_count": 5,
     "metadata": {},
     "output_type": "execute_result"
    }
   ],
   "source": [
    "# Accessing a single row\n",
    "df.iloc[0]\n",
    "# df.loc[0]\n",
    "# df[:1]"
   ]
  },
  {
   "cell_type": "code",
   "execution_count": 6,
   "id": "14e4179d",
   "metadata": {},
   "outputs": [
    {
     "name": "stdout",
     "output_type": "stream",
     "text": [
      "yom                     1996\n",
      "yor                     2000\n",
      "num_pre_owners             5\n",
      "mileage               185000\n",
      "fuel_economy               8\n",
      "number_accidents           5\n",
      "vehicle_color          white\n",
      "country_of_origin      japan\n",
      "make                  toyota\n",
      "interior_condition      good\n",
      "Name: 0, dtype: object\n",
      "yom                       2004\n",
      "yor                       2007\n",
      "num_pre_owners               2\n",
      "mileage                 145000\n",
      "fuel_economy                15\n",
      "number_accidents             2\n",
      "vehicle_color             blue\n",
      "country_of_origin     thailand\n",
      "make                    toyota\n",
      "interior_condition        good\n",
      "Name: 1, dtype: object\n",
      "yom                     2010\n",
      "yor                     2012\n",
      "num_pre_owners             1\n",
      "mileage               190000\n",
      "fuel_economy              11\n",
      "number_accidents           1\n",
      "vehicle_color          white\n",
      "country_of_origin      japan\n",
      "make                  nissan\n",
      "interior_condition        ok\n",
      "Name: 2, dtype: object\n",
      "yom                     2015\n",
      "yor                     2015\n",
      "num_pre_owners             1\n",
      "mileage                65000\n",
      "fuel_economy              10\n",
      "number_accidents           0\n",
      "vehicle_color          black\n",
      "country_of_origin      india\n",
      "make                  suzuki\n",
      "interior_condition       bad\n",
      "Name: 3, dtype: object\n",
      "yom                      2020\n",
      "yor                      2022\n",
      "num_pre_owners              1\n",
      "mileage                 35000\n",
      "fuel_economy                5\n",
      "number_accidents            0\n",
      "vehicle_color            grey\n",
      "country_of_origin     germany\n",
      "make                     benz\n",
      "interior_condition       good\n",
      "Name: 4, dtype: object\n"
     ]
    }
   ],
   "source": [
    "# Looping through rows\n",
    "for index, row in df.iterrows():\n",
    "    print(row)"
   ]
  },
  {
   "cell_type": "code",
   "execution_count": 7,
   "id": "abe050e9",
   "metadata": {},
   "outputs": [],
   "source": [
    "def calculate_value(row):\n",
    "    basic_value = 1_500_000\n",
    "\n",
    "    # Add value based on yom\n",
    "    if row[\"yom\"] < 2000:\n",
    "        basic_value += 200_000\n",
    "    elif row[\"yom\"] >= 2000 and row[\"yom\"] <= 2010:\n",
    "        basic_value += 500_000\n",
    "    else:\n",
    "        basic_value += 1_000_000\n",
    "\n",
    "    # Add value based on previous owners\n",
    "    if row[\"num_pre_owners\"] == 1:\n",
    "        basic_value += 500_000\n",
    "    else:\n",
    "        basic_value += 100_000\n",
    "\n",
    "    # Add value based on mileage\n",
    "    if row[\"mileage\"] < 50_000:\n",
    "        basic_value += 500_000\n",
    "    elif row[\"mileage\"] < 100_000 and row[\"mileage\"] >= 50_000:\n",
    "        basic_value += 200000\n",
    "    elif row[\"mileage\"] >= 100_000 and row[\"mileage\"] < 150_000:\n",
    "        basic_value += 100_000\n",
    "    else:\n",
    "        basic_value += 25_000\n",
    "\n",
    "    return basic_value\n",
    "    "
   ]
  },
  {
   "cell_type": "code",
   "execution_count": 8,
   "id": "84dffae6",
   "metadata": {},
   "outputs": [
    {
     "data": {
      "text/plain": [
       "1825000"
      ]
     },
     "execution_count": 8,
     "metadata": {},
     "output_type": "execute_result"
    }
   ],
   "source": [
    "calculate_value(df.iloc[0])"
   ]
  },
  {
   "cell_type": "code",
   "execution_count": 9,
   "id": "f5af9a7e",
   "metadata": {},
   "outputs": [
    {
     "data": {
      "text/plain": [
       "2200000"
      ]
     },
     "execution_count": 9,
     "metadata": {},
     "output_type": "execute_result"
    }
   ],
   "source": [
    "calculate_value(df.iloc[1])"
   ]
  },
  {
   "cell_type": "code",
   "execution_count": 10,
   "id": "65698350",
   "metadata": {},
   "outputs": [],
   "source": [
    "def calculate_value_all_features(row):\n",
    "    value = 1_500_000\n",
    "\n",
    "    # Year of Manufacture\n",
    "    if row[\"yom\"] < 2000:\n",
    "        value += 200_000\n",
    "    elif 2000 <= row[\"yom\"] <= 2010:\n",
    "        value += 500_000\n",
    "    else:\n",
    "        value += 1_000_000\n",
    "\n",
    "    # Number of Previous Owners\n",
    "    if row[\"num_pre_owners\"] == 1:\n",
    "        value += 500_000\n",
    "    else:\n",
    "        value += 100_000\n",
    "\n",
    "    # Mileage\n",
    "    if row[\"mileage\"] < 50_000:\n",
    "        value += 500_000\n",
    "    elif 50_000 <= row[\"mileage\"] < 100_000:\n",
    "        value += 200_000\n",
    "    elif 100_000 <= row[\"mileage\"] < 150_000:\n",
    "        value += 100_000\n",
    "    else:\n",
    "        value += 25_000\n",
    "\n",
    "    # Fuel Economy (lower is better)\n",
    "    if row[\"fuel_economy\"] <= 6:\n",
    "        value += 400_000\n",
    "    elif 6 < row[\"fuel_economy\"] <= 10:\n",
    "        value += 200_000\n",
    "    else:\n",
    "        value -= 100_000  # penalize poor fuel economy\n",
    "\n",
    "    # Number of Accidents (penalize heavily)\n",
    "    if row[\"number_accidents\"] == 0:\n",
    "        value += 300_000\n",
    "    elif row[\"number_accidents\"] <= 2:\n",
    "        value += 100_000\n",
    "    else:\n",
    "        value -= 200_000\n",
    "\n",
    "    # Vehicle Color — optional, minimal influence (white and black are more popular)\n",
    "    if row[\"vehicle_color\"].lower() in [\"white\", \"black\", \"grey\"]:\n",
    "        value += 50_000\n",
    "\n",
    "    # Country of Origin\n",
    "    if row[\"country_of_origin\"].lower() in [\"germany\", \"japan\"]:\n",
    "        value += 300_000\n",
    "    elif row[\"country_of_origin\"].lower() == \"india\":\n",
    "        value += 50_000\n",
    "    else:\n",
    "        value += 100_000\n",
    "\n",
    "    # Make — reward premium brands\n",
    "    if row[\"make\"].lower() in [\"benz\", \"bmw\", \"audi\"]:\n",
    "        value += 500_000\n",
    "    elif row[\"make\"].lower() in [\"toyota\", \"nissan\"]:\n",
    "        value += 200_000\n",
    "    else:\n",
    "        value += 50_000\n",
    "\n",
    "    # Interior Condition\n",
    "    condition = row[\"interior_condition\"].lower()\n",
    "    if condition == \"good\":\n",
    "        value += 200_000\n",
    "    elif condition == \"ok\":\n",
    "        value += 50_000\n",
    "    elif condition == \"bad\":\n",
    "        value -= 100_000\n",
    "\n",
    "    # Year of Registration — newer registration adds value\n",
    "    if row[\"yor\"] >= 2020:\n",
    "        value += 300_000\n",
    "    elif 2010 <= row[\"yor\"] < 2020:\n",
    "        value += 100_000\n",
    "\n",
    "    return value\n"
   ]
  },
  {
   "cell_type": "code",
   "execution_count": 11,
   "id": "745a867d",
   "metadata": {},
   "outputs": [
    {
     "data": {
      "text/plain": [
       "2575000"
      ]
     },
     "execution_count": 11,
     "metadata": {},
     "output_type": "execute_result"
    }
   ],
   "source": [
    "calculate_value_all_features(df.iloc[0])"
   ]
  },
  {
   "cell_type": "code",
   "execution_count": 12,
   "id": "129f97aa",
   "metadata": {},
   "outputs": [
    {
     "data": {
      "text/plain": [
       "2700000"
      ]
     },
     "execution_count": 12,
     "metadata": {},
     "output_type": "execute_result"
    }
   ],
   "source": [
    "calculate_value_all_features(df.iloc[1])"
   ]
  },
  {
   "cell_type": "code",
   "execution_count": null,
   "id": "9ed3c2a2",
   "metadata": {},
   "outputs": [],
   "source": []
  }
 ],
 "metadata": {
  "kernelspec": {
   "display_name": "venv",
   "language": "python",
   "name": "python3"
  },
  "language_info": {
   "codemirror_mode": {
    "name": "ipython",
    "version": 3
   },
   "file_extension": ".py",
   "mimetype": "text/x-python",
   "name": "python",
   "nbconvert_exporter": "python",
   "pygments_lexer": "ipython3",
   "version": "3.10.13"
  }
 },
 "nbformat": 4,
 "nbformat_minor": 5
}
